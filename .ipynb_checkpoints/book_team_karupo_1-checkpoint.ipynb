{
 "cells": [
  {
   "cell_type": "code",
   "execution_count": 3,
   "id": "40d2e767",
   "metadata": {},
   "outputs": [],
   "source": [
    "import numpy as np"
   ]
  },
  {
   "cell_type": "code",
   "execution_count": 5,
   "id": "de2f4ba9",
   "metadata": {},
   "outputs": [],
   "source": [
    "class NeuralNetwork:\n",
    "    '''ニューラルネットワークを生成する\n",
    "    \n",
    "    Attributes:\n",
    "        fc1(int): 隠れ層のニューロン数\n",
    "        fc2(int): 出力層のニューロン数\n",
    "        lr(float): 学習率\n",
    "        w1(array): 隠れ層のバイアス、重み行列\n",
    "        w2(array): 出力層のバイアス、重み行列\n",
    "    '''\n",
    "    \n",
    "    def __init__(self, input_dim, hidden_dim, output_dim, learning_rate):\n",
    "        self.input = input_dim\n",
    "        self.fc1 = hidden_dim\n",
    "        self.fc2 = output_dim\n",
    "        self.lr = learning_rate\n",
    "        self.weight_initialiser()\n",
    "        \n",
    "    def weight_initialiser(self):\n",
    "        self.w1= np.randam.normal(\n",
    "            0.0,\n",
    "            pow(self.input, -0.5),\n",
    "            (self.fc1,\n",
    "            self.input + 1)\n",
    "        )\n",
    "        \n",
    "        self.w2 = np.randam.normal(\n",
    "            0.0,\n",
    "            pow(self.fc1, -0.5),\n",
    "            (self.fc2,\n",
    "            self.fc1 + 1)\n",
    "        )\n",
    "    \n",
    "    def sigmoid(self, x):\n",
    "        return 1 / (1 + np.exp(-x))\n",
    "    \n",
    "    def softmax(self, x):\n",
    "        c = np.max(x)\n",
    "        exp_x = np.exp(x - c)\n",
    "        sum_exp_x = np.sum(exp_x)\n",
    "        y = exp_x / sum_exp_x\n",
    "        return y"
   ]
  },
  {
   "cell_type": "code",
   "execution_count": null,
   "id": "8d235226",
   "metadata": {},
   "outputs": [],
   "source": []
  }
 ],
 "metadata": {
  "kernelspec": {
   "display_name": "Python 3 (ipykernel)",
   "language": "python",
   "name": "python3"
  },
  "language_info": {
   "codemirror_mode": {
    "name": "ipython",
    "version": 3
   },
   "file_extension": ".py",
   "mimetype": "text/x-python",
   "name": "python",
   "nbconvert_exporter": "python",
   "pygments_lexer": "ipython3",
   "version": "3.10.9"
  }
 },
 "nbformat": 4,
 "nbformat_minor": 5
}
